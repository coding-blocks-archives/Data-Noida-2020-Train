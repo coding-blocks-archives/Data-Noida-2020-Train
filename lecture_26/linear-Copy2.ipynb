{
 "cells": [
  {
   "cell_type": "code",
   "execution_count": 1,
   "metadata": {},
   "outputs": [],
   "source": [
    "import numpy as np\n",
    "import matplotlib.pyplot as plt"
   ]
  },
  {
   "cell_type": "code",
   "execution_count": 2,
   "metadata": {},
   "outputs": [],
   "source": [
    "X = np.linspace(-100, 100, 100)"
   ]
  },
  {
   "cell_type": "code",
   "execution_count": 3,
   "metadata": {},
   "outputs": [],
   "source": [
    "m, c = 5, 50 "
   ]
  },
  {
   "cell_type": "code",
   "execution_count": 4,
   "metadata": {},
   "outputs": [],
   "source": [
    "noise = np.random.randn(100) * 1000"
   ]
  },
  {
   "cell_type": "code",
   "execution_count": 5,
   "metadata": {},
   "outputs": [],
   "source": [
    "y = (X ** 2) + noise"
   ]
  },
  {
   "cell_type": "code",
   "execution_count": 6,
   "metadata": {},
   "outputs": [],
   "source": [
    "X_mod = (X - np.mean(X)) / np.std(X)"
   ]
  },
  {
   "cell_type": "code",
   "execution_count": 7,
   "metadata": {},
   "outputs": [],
   "source": [
    "y_mod = -(y - np.mean(y))/(np.std(y))"
   ]
  },
  {
   "cell_type": "code",
   "execution_count": 8,
   "metadata": {},
   "outputs": [
    {
     "data": {
      "text/plain": [
       "<matplotlib.collections.PathCollection at 0x1178db2b0>"
      ]
     },
     "execution_count": 8,
     "metadata": {},
     "output_type": "execute_result"
    },
    {
     "data": {
      "image/png": "[encoded data removed]",
      "text/plain": [
       "<Figure size 432x288 with 1 Axes>"
      ]
     },
     "metadata": {
      "needs_background": "light"
     },
     "output_type": "display_data"
    }
   ],
   "source": [
    "plt.scatter(X_mod, y_mod)"
   ]
  },
  {
   "cell_type": "code",
   "execution_count": 9,
   "metadata": {},
   "outputs": [],
   "source": [
    "class RegCustom:\n",
    "    \n",
    "    def __init__(self, lr=1, max_steps=10):\n",
    "        self.lr = lr\n",
    "        self.max_steps = max_steps\n",
    "        \n",
    "    def fit(self, X, y):\n",
    "        self.a_ = np.random.random()\n",
    "        self.b_ = np.random.random()\n",
    "        self.c_ = np.random.random()\n",
    "        \n",
    "        for i in range(self.max_steps):\n",
    "            self.gradient_decend(X, y)\n",
    "        \n",
    "    def gradient_decend(self, X, y):\n",
    "        delta_a, delta_b, delta_c = self.gradient(X, y)\n",
    "#         print(delta_coef, delta_inter)\n",
    "        self.a_ += delta_a\n",
    "        self.b_ += delta_b\n",
    "        self.c_ += delta_c\n",
    "        \n",
    "    def gradient(self, X, y):\n",
    "        yp = self.predict(X)\n",
    "        d_e2a = np.mean((yp - y) * (X**2))\n",
    "        d_e2b = np.mean((yp - y) * (X))\n",
    "        d_e2c = np.mean((yp - y))\n",
    "        \n",
    "        return -d_e2a * self.lr, -d_e2b * self.lr, -d_e2c * self.lr\n",
    "        \n",
    "    def predict(self, X):\n",
    "        return (X**2) * self.a_ + X * self.b_ + self.c_\n"
   ]
  },
  {
   "cell_type": "code",
   "execution_count": 10,
   "metadata": {},
   "outputs": [
    {
     "data": {
      "text/plain": [
       "<matplotlib.collections.PathCollection at 0x1178db828>"
      ]
     },
     "execution_count": 10,
     "metadata": {},
     "output_type": "execute_result"
    },
    {
     "data": {
      "image/png": "[encoded data removed]",
      "text/plain": [
       "<Figure size 432x288 with 1 Axes>"
      ]
     },
     "metadata": {
      "needs_background": "light"
     },
     "output_type": "display_data"
    }
   ],
   "source": [
    "model = RegCustom(lr=.01, max_steps=2000)\n",
    "\n",
    "model.fit(X_mod, y_mod)\n",
    "\n",
    "plt.scatter(X_mod, y_mod)\n",
    "plt.scatter(X_mod, model.predict(X_mod))"
   ]
  },
  {
   "cell_type": "code",
   "execution_count": 11,
   "metadata": {},
   "outputs": [
    {
     "data": {
      "text/plain": [
       "(-1.05062269060977, 0.02782877396517769, 1.0501574057140963)"
      ]
     },
     "execution_count": 11,
     "metadata": {},
     "output_type": "execute_result"
    }
   ],
   "source": [
    "model.a_, model.b_, model.c_"
   ]
  },
  {
   "cell_type": "code",
   "execution_count": null,
   "metadata": {},
   "outputs": [],
   "source": []
  },
  {
   "cell_type": "code",
   "execution_count": null,
   "metadata": {},
   "outputs": [],
   "source": []
  },
  {
   "cell_type": "code",
   "execution_count": null,
   "metadata": {},
   "outputs": [],
   "source": []
  },
  {
   "cell_type": "code",
   "execution_count": null,
   "metadata": {},
   "outputs": [],
   "source": []
  }
 ],
 "metadata": {
  "kernelspec": {
   "display_name": "Python 3",
   "language": "python",
   "name": "python3"
  },
  "language_info": {
   "codemirror_mode": {
    "name": "ipython",
    "version": 3
   },
   "file_extension": ".py",
   "mimetype": "text/x-python",
   "name": "python",
   "nbconvert_exporter": "python",
   "pygments_lexer": "ipython3",
   "version": "3.7.4"
  }
 },
 "nbformat": 4,
 "nbformat_minor": 4
}
